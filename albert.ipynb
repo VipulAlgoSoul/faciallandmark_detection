{
 "cells": [
  {
   "cell_type": "code",
   "execution_count": 1,
   "metadata": {},
   "outputs": [],
   "source": [
    "import cv2\n",
    "import dlib"
   ]
  },
  {
   "cell_type": "code",
   "execution_count": 2,
   "metadata": {},
   "outputs": [
    {
     "name": "stdout",
     "output_type": "stream",
     "text": [
      "(591, 800)\n"
     ]
    }
   ],
   "source": [
    "gr_im=cv2.imread(\"albert.jpg\",0)\n",
    "#gr_im=cv2.imread(\"mask2.jpg\",0)\n",
    "#gr_im=cv2.pyrDown(gr_im)\n",
    "print(gr_im.shape)"
   ]
  },
  {
   "cell_type": "code",
   "execution_count": 3,
   "metadata": {},
   "outputs": [],
   "source": [
    "hog_face_detector = dlib.get_frontal_face_detector()\n",
    "dlib_facelandmark = dlib.shape_predictor(\"shape_predictor_68_face_landmarks.dat\")"
   ]
  },
  {
   "cell_type": "code",
   "execution_count": 8,
   "metadata": {},
   "outputs": [],
   "source": [
    "faces=hog_face_detector(gr_im)\n",
    "for face in faces:\n",
    "    face_landmarks=dlib_facelandmark(gr_im,face)\n",
    "    for n in range(0, 60):\n",
    "            x = face_landmarks.part(n).x\n",
    "            y = face_landmarks.part(n).y\n",
    "            cv2.circle(gr_im, (x, y), 3, (0, 255, 255), 1)\n",
    "            cv2.putText(gr_im,str(n),(x,y),\n",
    "                        cv2.FONT_HERSHEY_SIMPLEX,0.5,(255),3)\n",
    "    "
   ]
  },
  {
   "cell_type": "code",
   "execution_count": 9,
   "metadata": {},
   "outputs": [],
   "source": [
    "cv2.imshow(\"frame\",gr_im)\n",
    "cv2.waitKey(0)\n",
    "cv2.destroyAllWindows()"
   ]
  },
  {
   "cell_type": "code",
   "execution_count": null,
   "metadata": {},
   "outputs": [],
   "source": [
    "frame=cv2.putText(frame, str(count), (260, 310),\n",
    "            cv2.FONT_HERSHEY_SIMPLEX, 0.5, (0, 55, 255), 2)"
   ]
  }
 ],
 "metadata": {
  "kernelspec": {
   "display_name": "Python 3",
   "language": "python",
   "name": "python3"
  },
  "language_info": {
   "codemirror_mode": {
    "name": "ipython",
    "version": 3
   },
   "file_extension": ".py",
   "mimetype": "text/x-python",
   "name": "python",
   "nbconvert_exporter": "python",
   "pygments_lexer": "ipython3",
   "version": "3.6.10"
  }
 },
 "nbformat": 4,
 "nbformat_minor": 4
}
