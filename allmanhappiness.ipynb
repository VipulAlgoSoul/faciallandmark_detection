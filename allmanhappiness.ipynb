{
 "cells": [
  {
   "cell_type": "code",
   "execution_count": 2,
   "metadata": {},
   "outputs": [],
   "source": [
    "import cv2\n",
    "import dlib"
   ]
  },
  {
   "cell_type": "code",
   "execution_count": 3,
   "metadata": {},
   "outputs": [],
   "source": [
    "def Draw_MyLM(frame,f_l):\n",
    "    \n",
    "    frame=cv2.line(frame, (face_landmarks.part(17).x,face_landmarks.part(17).y), (face_landmarks.part(1).x,face_landmarks.part(1).y), (0,0,255), 1)\n",
    "    frame=cv2.line(frame, (face_landmarks.part(17).x,face_landmarks.part(17).y), (face_landmarks.part(18).x,face_landmarks.part(18).y), (0,0,255), 1)\n",
    "    frame=cv2.line(frame, (face_landmarks.part(40).x,face_landmarks.part(40).y), (face_landmarks.part(39).x,face_landmarks.part(39).y), (0,0,255), 1)\n",
    "    frame=cv2.line(frame, (face_landmarks.part(39).x,face_landmarks.part(39).y), (face_landmarks.part(20).x,face_landmarks.part(20).y), (0,0,255), 1)\n",
    "    frame=cv2.line(frame, (face_landmarks.part(21).x,face_landmarks.part(21).y), (face_landmarks.part(20).x,face_landmarks.part(20).y), (0,0,255), 1)\n",
    "    frame=cv2.line(frame, (face_landmarks.part(21).x,face_landmarks.part(21).y), (face_landmarks.part(27).x,face_landmarks.part(27).y), (0,0,255), 1)\n",
    "    frame=cv2.line(frame, (face_landmarks.part(27).x,face_landmarks.part(27).y), (face_landmarks.part(39).x,face_landmarks.part(39).y), (0,0,255), 1)\n",
    "    frame=cv2.line(frame, (face_landmarks.part(6).x,face_landmarks.part(6).y), (face_landmarks.part(3).x,face_landmarks.part(3).y), (0,0,255), 1)\n",
    "    frame=cv2.line(frame, (face_landmarks.part(17).x,face_landmarks.part(17).y), (face_landmarks.part(3).x,face_landmarks.part(3).y), (0,0,255), 1)\n",
    "    frame=cv2.line(frame, (face_landmarks.part(40).x,face_landmarks.part(40).y), (face_landmarks.part(3).x,face_landmarks.part(3).y), (0,0,255), 1)\n",
    "    frame=cv2.line(frame, (face_landmarks.part(36).x,face_landmarks.part(36).y), (face_landmarks.part(3).x,face_landmarks.part(3).y), (0,0,255), 1)\n",
    "    frame=cv2.line(frame, (face_landmarks.part(36).x,face_landmarks.part(36).y), (face_landmarks.part(37).x,face_landmarks.part(37).y), (0,0,255), 1)\n",
    "    frame=cv2.line(frame, (face_landmarks.part(36).x,face_landmarks.part(36).y), (face_landmarks.part(41).x,face_landmarks.part(41).y), (0,0,255), 1)\n",
    "    frame=cv2.line(frame, (face_landmarks.part(40).x,face_landmarks.part(40).y), (face_landmarks.part(41).x,face_landmarks.part(41).y), (0,0,255), 1)\n",
    "    frame=cv2.line(frame, (face_landmarks.part(36).x,face_landmarks.part(36).y), (face_landmarks.part(6).x,face_landmarks.part(6).y), (0,0,255), 1)\n",
    "    frame=cv2.line(frame, (face_landmarks.part(39).x,face_landmarks.part(39).y), (face_landmarks.part(6).x,face_landmarks.part(6).y), (0,0,255), 1)\n",
    "    frame=cv2.line(frame, (face_landmarks.part(27).x,face_landmarks.part(27).y), (face_landmarks.part(6).x,face_landmarks.part(6).y), (0,0,255), 1)\n",
    "\n",
    "    #frame=cv2.line(frame, (face_landmarks.part(22).x,face_landmarks.part(22).y), (face_landmarks.part(21).x,face_landmarks.part(21).y), (0,0,255), 1)\n",
    "\n",
    "    frame=cv2.line(frame, (face_landmarks.part(18).x,face_landmarks.part(18).y), (face_landmarks.part(1).x,face_landmarks.part(1).y), (0,0,255), 1)\n",
    "    frame=cv2.line(frame, (face_landmarks.part(18).x,face_landmarks.part(18).y), (face_landmarks.part(37).x,face_landmarks.part(37).y), (0,0,255), 1)\n",
    "    frame=cv2.line(frame, (face_landmarks.part(1).x,face_landmarks.part(1).y), (face_landmarks.part(3).x,face_landmarks.part(3).y), (0,0,255), 1)\n",
    "    frame=cv2.line(frame, (face_landmarks.part(18).x,face_landmarks.part(18).y), (face_landmarks.part(20).x,face_landmarks.part(20).y), (0,0,255), 1)\n",
    "    frame=cv2.line(frame, (face_landmarks.part(37).x,face_landmarks.part(37).y), (face_landmarks.part(38).x,face_landmarks.part(38).y), (0,0,255), 1)\n",
    "    frame=cv2.line(frame, (face_landmarks.part(38).x,face_landmarks.part(38).y), (face_landmarks.part(39).x,face_landmarks.part(39).y), (0,0,255), 1)\n",
    "    frame=cv2.line(frame, (face_landmarks.part(18).x,face_landmarks.part(18).y), (face_landmarks.part(36).x,face_landmarks.part(36).y), (0,0,255), 1)\n",
    "    return frame\n",
    "    "
   ]
  },
  {
   "cell_type": "code",
   "execution_count": 4,
   "metadata": {},
   "outputs": [],
   "source": [
    "#cap = cv2.VideoCapture(\"ALLmanHappines.mp4\")\n",
    "cap = cv2.VideoCapture(\"thorin.mp4\")\n",
    "\n",
    "hog_face_detector = dlib.get_frontal_face_detector()\n",
    "\n",
    "dlib_facelandmark = dlib.shape_predictor(\"shape_predictor_68_face_landmarks.dat\")\n",
    "\n",
    "while True:\n",
    "    _, frame = cap.read()\n",
    "    gray = cv2.cvtColor(frame, cv2.COLOR_BGR2GRAY)\n",
    "\n",
    "    faces = hog_face_detector(gray)\n",
    "    for face in faces:\n",
    "\n",
    "        face_landmarks = dlib_facelandmark(gray, face)\n",
    "\n",
    "        for n in range(0, 68):\n",
    "            x = face_landmarks.part(n).x\n",
    "            y = face_landmarks.part(n).y\n",
    "            cv2.circle(frame, (x, y), 1, (0, 255, 255), 1)\n",
    "\n",
    "\n",
    "    frame=Draw_MyLM(frame,face_landmarks)\n",
    "    cv2.imshow(\"Face Landmarks\", frame)\n",
    "\n",
    "    if cv2.waitKey(1) & 0xFF==ord(\"q\"):\n",
    "        break\n",
    "cap.release()\n",
    "cv2.destroyAllWindows()"
   ]
  },
  {
   "cell_type": "code",
   "execution_count": null,
   "metadata": {},
   "outputs": [],
   "source": []
  }
 ],
 "metadata": {
  "kernelspec": {
   "display_name": "Python 3",
   "language": "python",
   "name": "python3"
  },
  "language_info": {
   "codemirror_mode": {
    "name": "ipython",
    "version": 3
   },
   "file_extension": ".py",
   "mimetype": "text/x-python",
   "name": "python",
   "nbconvert_exporter": "python",
   "pygments_lexer": "ipython3",
   "version": "3.6.13"
  }
 },
 "nbformat": 4,
 "nbformat_minor": 4
}
